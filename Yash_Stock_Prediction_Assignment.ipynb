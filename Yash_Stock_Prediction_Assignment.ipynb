{
  "nbformat": 4,
  "nbformat_minor": 0,
  "metadata": {
    "kernelspec": {
      "display_name": "Python 3",
      "language": "python",
      "name": "python3"
    },
    "language_info": {
      "codemirror_mode": {
        "name": "ipython",
        "version": 3
      },
      "file_extension": ".py",
      "mimetype": "text/x-python",
      "name": "python",
      "nbconvert_exporter": "python",
      "pygments_lexer": "ipython3",
      "version": "3.7.4"
    },
    "colab": {
      "name": "Yash_Stock_Prediction_Assignment.ipynb",
      "provenance": [],
      "collapsed_sections": []
    }
  },
  "cells": [
    {
      "cell_type": "code",
      "metadata": {
        "id": "aVwCOGr-ZS7N",
        "colab_type": "code",
        "outputId": "bfc01f10-aed0-42ed-a052-bb98513040c5",
        "colab": {
          "base_uri": "https://localhost:8080/",
          "height": 34
        }
      },
      "source": [
        "%tensorflow_version 1.x"
      ],
      "execution_count": 2,
      "outputs": [
        {
          "output_type": "stream",
          "text": [
            "TensorFlow 1.x selected.\n"
          ],
          "name": "stdout"
        }
      ]
    },
    {
      "cell_type": "code",
      "metadata": {
        "id": "42j0mEFIYbtt",
        "colab_type": "code",
        "outputId": "d5630e26-f63c-4a51-cf51-b823d84db42e",
        "colab": {
          "base_uri": "https://localhost:8080/",
          "height": 70
        }
      },
      "source": [
        "import numpy as np  \n",
        "import matplotlib.pyplot as plt  \n",
        "import pandas as pd  \n",
        "import datetime as dt\n",
        "import tensorflow as tf\n",
        "from sklearn.preprocessing import MinMaxScaler\n",
        "import seaborn as sns"
      ],
      "execution_count": 3,
      "outputs": [
        {
          "output_type": "stream",
          "text": [
            "/usr/local/lib/python3.6/dist-packages/statsmodels/tools/_testing.py:19: FutureWarning: pandas.util.testing is deprecated. Use the functions in the public API at pandas.testing instead.\n",
            "  import pandas.util.testing as tm\n"
          ],
          "name": "stderr"
        }
      ]
    },
    {
      "cell_type": "code",
      "metadata": {
        "id": "b5ZmIQ-wYbt-",
        "colab_type": "code",
        "outputId": "7bbde215-1324-4ad6-b854-f9ba11c15a4c",
        "colab": {
          "base_uri": "https://localhost:8080/",
          "height": 121
        }
      },
      "source": [
        "from google.colab import drive\n",
        "drive.mount('/content/drive')"
      ],
      "execution_count": 4,
      "outputs": [
        {
          "output_type": "stream",
          "text": [
            "Go to this URL in a browser: https://accounts.google.com/o/oauth2/auth?client_id=947318989803-6bn6qk8qdgf4n4g3pfee6491hc0brc4i.apps.googleusercontent.com&redirect_uri=urn%3aietf%3awg%3aoauth%3a2.0%3aoob&response_type=code&scope=email%20https%3a%2f%2fwww.googleapis.com%2fauth%2fdocs.test%20https%3a%2f%2fwww.googleapis.com%2fauth%2fdrive%20https%3a%2f%2fwww.googleapis.com%2fauth%2fdrive.photos.readonly%20https%3a%2f%2fwww.googleapis.com%2fauth%2fpeopleapi.readonly\n",
            "\n",
            "Enter your authorization code:\n",
            "··········\n",
            "Mounted at /content/drive\n"
          ],
          "name": "stdout"
        }
      ]
    },
    {
      "cell_type": "code",
      "metadata": {
        "id": "-vHA2iwSZyju",
        "colab_type": "code",
        "colab": {}
      },
      "source": [
        "dataset = pd.read_csv('/content/drive/My Drive/AAPL.csv')"
      ],
      "execution_count": 0,
      "outputs": []
    },
    {
      "cell_type": "code",
      "metadata": {
        "id": "44MMQpu3YbuP",
        "colab_type": "code",
        "outputId": "b549ec02-979c-49b4-b337-66abd64342ab",
        "colab": {
          "base_uri": "https://localhost:8080/",
          "height": 195
        }
      },
      "source": [
        "dataset.head()"
      ],
      "execution_count": 6,
      "outputs": [
        {
          "output_type": "execute_result",
          "data": {
            "text/html": [
              "<div>\n",
              "<style scoped>\n",
              "    .dataframe tbody tr th:only-of-type {\n",
              "        vertical-align: middle;\n",
              "    }\n",
              "\n",
              "    .dataframe tbody tr th {\n",
              "        vertical-align: top;\n",
              "    }\n",
              "\n",
              "    .dataframe thead th {\n",
              "        text-align: right;\n",
              "    }\n",
              "</style>\n",
              "<table border=\"1\" class=\"dataframe\">\n",
              "  <thead>\n",
              "    <tr style=\"text-align: right;\">\n",
              "      <th></th>\n",
              "      <th>Date</th>\n",
              "      <th>Open</th>\n",
              "      <th>High</th>\n",
              "      <th>Low</th>\n",
              "      <th>Close</th>\n",
              "      <th>Adj Close</th>\n",
              "      <th>Volume</th>\n",
              "    </tr>\n",
              "  </thead>\n",
              "  <tbody>\n",
              "    <tr>\n",
              "      <th>0</th>\n",
              "      <td>2009-12-01</td>\n",
              "      <td>1.502857</td>\n",
              "      <td>1.560714</td>\n",
              "      <td>1.500000</td>\n",
              "      <td>1.550714</td>\n",
              "      <td>1.034021</td>\n",
              "      <td>90384000</td>\n",
              "    </tr>\n",
              "    <tr>\n",
              "      <th>1</th>\n",
              "      <td>2009-12-02</td>\n",
              "      <td>1.542857</td>\n",
              "      <td>1.564286</td>\n",
              "      <td>1.529286</td>\n",
              "      <td>1.538571</td>\n",
              "      <td>1.025924</td>\n",
              "      <td>51324000</td>\n",
              "    </tr>\n",
              "    <tr>\n",
              "      <th>2</th>\n",
              "      <td>2009-12-03</td>\n",
              "      <td>1.538571</td>\n",
              "      <td>1.560000</td>\n",
              "      <td>1.497143</td>\n",
              "      <td>1.502143</td>\n",
              "      <td>1.001633</td>\n",
              "      <td>47824000</td>\n",
              "    </tr>\n",
              "    <tr>\n",
              "      <th>3</th>\n",
              "      <td>2009-12-04</td>\n",
              "      <td>1.495714</td>\n",
              "      <td>1.512143</td>\n",
              "      <td>1.483571</td>\n",
              "      <td>1.510714</td>\n",
              "      <td>1.007349</td>\n",
              "      <td>44485000</td>\n",
              "    </tr>\n",
              "    <tr>\n",
              "      <th>4</th>\n",
              "      <td>2009-12-05</td>\n",
              "      <td>1.492857</td>\n",
              "      <td>1.510714</td>\n",
              "      <td>1.480714</td>\n",
              "      <td>1.489286</td>\n",
              "      <td>0.993060</td>\n",
              "      <td>46544400</td>\n",
              "    </tr>\n",
              "  </tbody>\n",
              "</table>\n",
              "</div>"
            ],
            "text/plain": [
              "         Date      Open      High       Low     Close  Adj Close    Volume\n",
              "0  2009-12-01  1.502857  1.560714  1.500000  1.550714   1.034021  90384000\n",
              "1  2009-12-02  1.542857  1.564286  1.529286  1.538571   1.025924  51324000\n",
              "2  2009-12-03  1.538571  1.560000  1.497143  1.502143   1.001633  47824000\n",
              "3  2009-12-04  1.495714  1.512143  1.483571  1.510714   1.007349  44485000\n",
              "4  2009-12-05  1.492857  1.510714  1.480714  1.489286   0.993060  46544400"
            ]
          },
          "metadata": {
            "tags": []
          },
          "execution_count": 6
        }
      ]
    },
    {
      "cell_type": "code",
      "metadata": {
        "id": "t9U542ZbYbui",
        "colab_type": "code",
        "outputId": "168fbd4e-6d48-4a69-e1bf-d679c41bb3e1",
        "colab": {
          "base_uri": "https://localhost:8080/",
          "height": 265
        }
      },
      "source": [
        "from pandas.plotting import register_matplotlib_converters\n",
        "register_matplotlib_converters()\n",
        "\n",
        "plt.figure()\n",
        "plt.plot(dataset[\"Open\"])\n",
        "plt.plot(dataset[\"High\"])\n",
        "plt.plot(dataset[\"Low\"])\n",
        "plt.plot(dataset[\"Close\"])\n",
        "plt.show()"
      ],
      "execution_count": 7,
      "outputs": [
        {
          "output_type": "display_data",
          "data": {
            "image/png": "[encoded data removed]",
            "text/plain": [
              "<Figure size 432x288 with 1 Axes>"
            ]
          },
          "metadata": {
            "tags": []
          }
        }
      ]
    },
    {
      "cell_type": "code",
      "metadata": {
        "id": "DUmWjT4xYbuy",
        "colab_type": "code",
        "outputId": "54c39397-17af-444e-a5c4-cc2d10f09592",
        "colab": {
          "base_uri": "https://localhost:8080/",
          "height": 276
        }
      },
      "source": [
        "plt.figure()\n",
        "plt.plot(dataset[\"Volume\"])\n",
        "plt.show()"
      ],
      "execution_count": 8,
      "outputs": [
        {
          "output_type": "display_data",
          "data": {
            "image/png": "[encoded data removed]",
            "text/plain": [
              "<Figure size 432x288 with 1 Axes>"
            ]
          },
          "metadata": {
            "tags": []
          }
        }
      ]
    },
    {
      "cell_type": "code",
      "metadata": {
        "id": "W2PfADO2YbvD",
        "colab_type": "code",
        "outputId": "7494951c-a8fb-4825-a21f-859a40b30074",
        "colab": {
          "base_uri": "https://localhost:8080/",
          "height": 168
        }
      },
      "source": [
        "print(\"checking if any null values are present\\n\", dataset.isna().sum())"
      ],
      "execution_count": 9,
      "outputs": [
        {
          "output_type": "stream",
          "text": [
            "checking if any null values are present\n",
            " Date         0\n",
            "Open         0\n",
            "High         0\n",
            "Low          0\n",
            "Close        0\n",
            "Adj Close    0\n",
            "Volume       0\n",
            "dtype: int64\n"
          ],
          "name": "stdout"
        }
      ]
    },
    {
      "cell_type": "code",
      "metadata": {
        "id": "asr9Po8wBUX6",
        "colab_type": "code",
        "colab": {
          "base_uri": "https://localhost:8080/",
          "height": 50
        },
        "outputId": "acff9454-9106-4181-92f0-68252c7eacc6"
      },
      "source": [
        "train = dataset[0:(len(dataset)-60)]\n",
        "test = dataset[(len(dataset)-60):len(dataset)]\n",
        "print(train.shape)\n",
        "print(test.shape)"
      ],
      "execution_count": 10,
      "outputs": [
        {
          "output_type": "stream",
          "text": [
            "(3793, 7)\n",
            "(60, 7)\n"
          ],
          "name": "stdout"
        }
      ]
    },
    {
      "cell_type": "code",
      "metadata": {
        "id": "PatMEheJBhmA",
        "colab_type": "code",
        "colab": {
          "base_uri": "https://localhost:8080/",
          "height": 34
        },
        "outputId": "1cea6b3d-4178-4cd2-e48a-9d9c4a0528c7"
      },
      "source": [
        "train_set = train.iloc[:,1:2].values\n",
        "train_set.shape"
      ],
      "execution_count": 11,
      "outputs": [
        {
          "output_type": "execute_result",
          "data": {
            "text/plain": [
              "(3793, 1)"
            ]
          },
          "metadata": {
            "tags": []
          },
          "execution_count": 11
        }
      ]
    },
    {
      "cell_type": "code",
      "metadata": {
        "id": "SBI608v1Bm8D",
        "colab_type": "code",
        "colab": {}
      },
      "source": [
        "from sklearn.preprocessing import MinMaxScaler\n",
        "scaler = MinMaxScaler(feature_range = (0, 1))\n",
        "\n",
        "train_scaled = scaler.fit_transform(train_set)"
      ],
      "execution_count": 0,
      "outputs": []
    },
    {
      "cell_type": "code",
      "metadata": {
        "id": "sfP_AinxBr8b",
        "colab_type": "code",
        "colab": {}
      },
      "source": [
        "X_train = []\n",
        "y_train = []\n",
        "for i in range(1, len(train_set)):\n",
        "    X_train.append(train_scaled[i-1:i, 0])\n",
        "    y_train.append(train_scaled[i, 0])"
      ],
      "execution_count": 0,
      "outputs": []
    },
    {
      "cell_type": "code",
      "metadata": {
        "id": "44Vm0VPuBw0M",
        "colab_type": "code",
        "colab": {}
      },
      "source": [
        "X_train, y_train = np.array(X_train), np.array(y_train)"
      ],
      "execution_count": 0,
      "outputs": []
    },
    {
      "cell_type": "code",
      "metadata": {
        "id": "b4o78oAMBzSP",
        "colab_type": "code",
        "colab": {}
      },
      "source": [
        "X_train = np.reshape(X_train, (X_train.shape[0], X_train.shape[1], 1))"
      ],
      "execution_count": 0,
      "outputs": []
    },
    {
      "cell_type": "code",
      "metadata": {
        "id": "zmR0orhXCLDj",
        "colab_type": "code",
        "colab": {}
      },
      "source": [
        "#!pip install tensorflow==2.0"
      ],
      "execution_count": 0,
      "outputs": []
    },
    {
      "cell_type": "code",
      "metadata": {
        "id": "sCZBogOaB1MQ",
        "colab_type": "code",
        "colab": {}
      },
      "source": [
        "from keras.models import Sequential\n",
        "from keras.layers import Dense\n",
        "from keras.layers import LSTM\n",
        "from keras.layers import Dropout"
      ],
      "execution_count": 0,
      "outputs": []
    },
    {
      "cell_type": "code",
      "metadata": {
        "id": "HAWLvUdMB3pu",
        "colab_type": "code",
        "colab": {}
      },
      "source": [
        "model = Sequential()"
      ],
      "execution_count": 0,
      "outputs": []
    },
    {
      "cell_type": "code",
      "metadata": {
        "id": "TPZM8BnaB343",
        "colab_type": "code",
        "colab": {}
      },
      "source": [
        "model = Sequential()\n",
        "model.add(LSTM(units=50, return_sequences=True, input_shape=(X_train.shape[1], 1)))\n",
        "model.add(Dropout(0.2))\n",
        "model.add(LSTM(units=50, return_sequences=True))\n",
        "model.add(Dropout(0.2))\n",
        "model.add(LSTM(units=50, return_sequences=True))\n",
        "model.add(Dropout(0.2))\n",
        "model.add(LSTM(units=50))\n",
        "model.add(Dropout(0.2))\n",
        "model.add(Dense(units = 1))"
      ],
      "execution_count": 0,
      "outputs": []
    },
    {
      "cell_type": "code",
      "metadata": {
        "id": "gUJ8Tji8CQn2",
        "colab_type": "code",
        "colab": {
          "base_uri": "https://localhost:8080/",
          "height": 454
        },
        "outputId": "e3950846-74cb-4904-d13c-52cc8265535e"
      },
      "source": [
        "model.summary()"
      ],
      "execution_count": 23,
      "outputs": [
        {
          "output_type": "stream",
          "text": [
            "Model: \"sequential_4\"\n",
            "_________________________________________________________________\n",
            "Layer (type)                 Output Shape              Param #   \n",
            "=================================================================\n",
            "lstm_5 (LSTM)                (None, 1, 50)             10400     \n",
            "_________________________________________________________________\n",
            "dropout_5 (Dropout)          (None, 1, 50)             0         \n",
            "_________________________________________________________________\n",
            "lstm_6 (LSTM)                (None, 1, 50)             20200     \n",
            "_________________________________________________________________\n",
            "dropout_6 (Dropout)          (None, 1, 50)             0         \n",
            "_________________________________________________________________\n",
            "lstm_7 (LSTM)                (None, 1, 50)             20200     \n",
            "_________________________________________________________________\n",
            "dropout_7 (Dropout)          (None, 1, 50)             0         \n",
            "_________________________________________________________________\n",
            "lstm_8 (LSTM)                (None, 50)                20200     \n",
            "_________________________________________________________________\n",
            "dropout_8 (Dropout)          (None, 50)                0         \n",
            "_________________________________________________________________\n",
            "dense_2 (Dense)              (None, 1)                 51        \n",
            "=================================================================\n",
            "Total params: 71,051\n",
            "Trainable params: 71,051\n",
            "Non-trainable params: 0\n",
            "_________________________________________________________________\n"
          ],
          "name": "stdout"
        }
      ]
    },
    {
      "cell_type": "code",
      "metadata": {
        "id": "QaczwVrMCWcv",
        "colab_type": "code",
        "colab": {
          "base_uri": "https://localhost:8080/",
          "height": 50
        },
        "outputId": "5dd16fae-3002-4f01-fc79-99349fe1bc4c"
      },
      "source": [
        "model.compile(optimizer = 'adam', loss = 'mean_squared_error')"
      ],
      "execution_count": 24,
      "outputs": [
        {
          "output_type": "stream",
          "text": [
            "WARNING:tensorflow:From /usr/local/lib/python3.6/dist-packages/keras/optimizers.py:793: The name tf.train.Optimizer is deprecated. Please use tf.compat.v1.train.Optimizer instead.\n",
            "\n"
          ],
          "name": "stdout"
        }
      ]
    },
    {
      "cell_type": "code",
      "metadata": {
        "id": "plNdMwZ4CZGZ",
        "colab_type": "code",
        "colab": {
          "base_uri": "https://localhost:8080/",
          "height": 1000
        },
        "outputId": "ec4ad5fd-bf17-4a6e-b391-078eb6e973ec"
      },
      "source": [
        "model.fit(X_train, y_train, epochs = 50, batch_size = 32)"
      ],
      "execution_count": 25,
      "outputs": [
        {
          "output_type": "stream",
          "text": [
            "WARNING:tensorflow:From /tensorflow-1.15.2/python3.6/tensorflow_core/python/ops/math_grad.py:1424: where (from tensorflow.python.ops.array_ops) is deprecated and will be removed in a future version.\n",
            "Instructions for updating:\n",
            "Use tf.where in 2.0, which has the same broadcast rule as np.where\n",
            "WARNING:tensorflow:From /usr/local/lib/python3.6/dist-packages/keras/backend/tensorflow_backend.py:1033: The name tf.assign_add is deprecated. Please use tf.compat.v1.assign_add instead.\n",
            "\n",
            "WARNING:tensorflow:From /usr/local/lib/python3.6/dist-packages/keras/backend/tensorflow_backend.py:1020: The name tf.assign is deprecated. Please use tf.compat.v1.assign instead.\n",
            "\n",
            "WARNING:tensorflow:From /usr/local/lib/python3.6/dist-packages/keras/backend/tensorflow_backend.py:3005: The name tf.Session is deprecated. Please use tf.compat.v1.Session instead.\n",
            "\n",
            "Epoch 1/50\n",
            "WARNING:tensorflow:From /usr/local/lib/python3.6/dist-packages/keras/backend/tensorflow_backend.py:190: The name tf.get_default_session is deprecated. Please use tf.compat.v1.get_default_session instead.\n",
            "\n",
            "WARNING:tensorflow:From /usr/local/lib/python3.6/dist-packages/keras/backend/tensorflow_backend.py:197: The name tf.ConfigProto is deprecated. Please use tf.compat.v1.ConfigProto instead.\n",
            "\n",
            "WARNING:tensorflow:From /usr/local/lib/python3.6/dist-packages/keras/backend/tensorflow_backend.py:207: The name tf.global_variables is deprecated. Please use tf.compat.v1.global_variables instead.\n",
            "\n",
            "WARNING:tensorflow:From /usr/local/lib/python3.6/dist-packages/keras/backend/tensorflow_backend.py:216: The name tf.is_variable_initialized is deprecated. Please use tf.compat.v1.is_variable_initialized instead.\n",
            "\n",
            "WARNING:tensorflow:From /usr/local/lib/python3.6/dist-packages/keras/backend/tensorflow_backend.py:223: The name tf.variables_initializer is deprecated. Please use tf.compat.v1.variables_initializer instead.\n",
            "\n",
            "3792/3792 [==============================] - 4s 943us/step - loss: 0.0522\n",
            "Epoch 2/50\n",
            "3792/3792 [==============================] - 1s 239us/step - loss: 0.0034\n",
            "Epoch 3/50\n",
            "3792/3792 [==============================] - 1s 251us/step - loss: 0.0023\n",
            "Epoch 4/50\n",
            "3792/3792 [==============================] - 1s 238us/step - loss: 0.0019\n",
            "Epoch 5/50\n",
            "3792/3792 [==============================] - 1s 242us/step - loss: 0.0018\n",
            "Epoch 6/50\n",
            "3792/3792 [==============================] - 1s 234us/step - loss: 0.0016\n",
            "Epoch 7/50\n",
            "3792/3792 [==============================] - 1s 244us/step - loss: 0.0016\n",
            "Epoch 8/50\n",
            "3792/3792 [==============================] - 1s 234us/step - loss: 0.0015\n",
            "Epoch 9/50\n",
            "3792/3792 [==============================] - 1s 238us/step - loss: 0.0014\n",
            "Epoch 10/50\n",
            "3792/3792 [==============================] - 1s 243us/step - loss: 0.0014\n",
            "Epoch 11/50\n",
            "3792/3792 [==============================] - 1s 235us/step - loss: 0.0015\n",
            "Epoch 12/50\n",
            "3792/3792 [==============================] - 1s 235us/step - loss: 0.0014\n",
            "Epoch 13/50\n",
            "3792/3792 [==============================] - 1s 233us/step - loss: 0.0014\n",
            "Epoch 14/50\n",
            "3792/3792 [==============================] - 1s 234us/step - loss: 0.0015\n",
            "Epoch 15/50\n",
            "3792/3792 [==============================] - 1s 235us/step - loss: 0.0013\n",
            "Epoch 16/50\n",
            "3792/3792 [==============================] - 1s 232us/step - loss: 0.0013\n",
            "Epoch 17/50\n",
            "3792/3792 [==============================] - 1s 231us/step - loss: 0.0014\n",
            "Epoch 18/50\n",
            "3792/3792 [==============================] - 1s 233us/step - loss: 0.0013\n",
            "Epoch 19/50\n",
            "3792/3792 [==============================] - 1s 233us/step - loss: 0.0013\n",
            "Epoch 20/50\n",
            "3792/3792 [==============================] - 1s 243us/step - loss: 0.0013\n",
            "Epoch 21/50\n",
            "3792/3792 [==============================] - 1s 238us/step - loss: 0.0013\n",
            "Epoch 22/50\n",
            "3792/3792 [==============================] - 1s 244us/step - loss: 0.0012\n",
            "Epoch 23/50\n",
            "3792/3792 [==============================] - 1s 241us/step - loss: 0.0012\n",
            "Epoch 24/50\n",
            "3792/3792 [==============================] - 1s 243us/step - loss: 0.0013\n",
            "Epoch 25/50\n",
            "3792/3792 [==============================] - 1s 240us/step - loss: 0.0012\n",
            "Epoch 26/50\n",
            "3792/3792 [==============================] - 1s 237us/step - loss: 0.0012\n",
            "Epoch 27/50\n",
            "3792/3792 [==============================] - 1s 239us/step - loss: 0.0013\n",
            "Epoch 28/50\n",
            "3792/3792 [==============================] - 1s 238us/step - loss: 0.0012\n",
            "Epoch 29/50\n",
            "3792/3792 [==============================] - 1s 238us/step - loss: 0.0012\n",
            "Epoch 30/50\n",
            "3792/3792 [==============================] - 1s 244us/step - loss: 0.0011\n",
            "Epoch 31/50\n",
            "3792/3792 [==============================] - 1s 250us/step - loss: 0.0012\n",
            "Epoch 32/50\n",
            "3792/3792 [==============================] - 1s 236us/step - loss: 0.0011\n",
            "Epoch 33/50\n",
            "3792/3792 [==============================] - 1s 238us/step - loss: 0.0012\n",
            "Epoch 34/50\n",
            "3792/3792 [==============================] - 1s 242us/step - loss: 0.0012\n",
            "Epoch 35/50\n",
            "3792/3792 [==============================] - 1s 251us/step - loss: 0.0012\n",
            "Epoch 36/50\n",
            "3792/3792 [==============================] - 1s 238us/step - loss: 0.0012\n",
            "Epoch 37/50\n",
            "3792/3792 [==============================] - 1s 239us/step - loss: 0.0012\n",
            "Epoch 38/50\n",
            "3792/3792 [==============================] - 1s 241us/step - loss: 0.0011\n",
            "Epoch 39/50\n",
            "3792/3792 [==============================] - 1s 237us/step - loss: 0.0012\n",
            "Epoch 40/50\n",
            "3792/3792 [==============================] - 1s 235us/step - loss: 0.0012\n",
            "Epoch 41/50\n",
            "3792/3792 [==============================] - 1s 239us/step - loss: 0.0012\n",
            "Epoch 42/50\n",
            "3792/3792 [==============================] - 1s 245us/step - loss: 0.0012\n",
            "Epoch 43/50\n",
            "3792/3792 [==============================] - 1s 239us/step - loss: 0.0011\n",
            "Epoch 44/50\n",
            "3792/3792 [==============================] - 1s 237us/step - loss: 0.0011\n",
            "Epoch 45/50\n",
            "3792/3792 [==============================] - 1s 241us/step - loss: 0.0012\n",
            "Epoch 46/50\n",
            "3792/3792 [==============================] - 1s 236us/step - loss: 0.0012\n",
            "Epoch 47/50\n",
            "3792/3792 [==============================] - 1s 239us/step - loss: 0.0011\n",
            "Epoch 48/50\n",
            "3792/3792 [==============================] - 1s 238us/step - loss: 0.0011\n",
            "Epoch 49/50\n",
            "3792/3792 [==============================] - 1s 237us/step - loss: 0.0011\n",
            "Epoch 50/50\n",
            "3792/3792 [==============================] - 1s 233us/step - loss: 0.0011\n"
          ],
          "name": "stdout"
        },
        {
          "output_type": "execute_result",
          "data": {
            "text/plain": [
              "<keras.callbacks.History at 0x7fe37fe1be48>"
            ]
          },
          "metadata": {
            "tags": []
          },
          "execution_count": 25
        }
      ]
    },
    {
      "cell_type": "code",
      "metadata": {
        "id": "DkUT1bPBCpM8",
        "colab_type": "code",
        "colab": {
          "base_uri": "https://localhost:8080/",
          "height": 34
        },
        "outputId": "05dc9340-7732-4ca4-a2ed-4cda5b28bbcb"
      },
      "source": [
        "y_test = test.iloc[:,1:2].values\n",
        "total = dataset['Open']\n",
        "input_tests = total[len(total) - len(test) - 1:].values\n",
        "total.shape"
      ],
      "execution_count": 26,
      "outputs": [
        {
          "output_type": "execute_result",
          "data": {
            "text/plain": [
              "(3853,)"
            ]
          },
          "metadata": {
            "tags": []
          },
          "execution_count": 26
        }
      ]
    },
    {
      "cell_type": "code",
      "metadata": {
        "id": "aUVlUs1FC0Rp",
        "colab_type": "code",
        "colab": {
          "base_uri": "https://localhost:8080/",
          "height": 34
        },
        "outputId": "fd0328e1-1047-4f2c-b775-33a2dd6b7e92"
      },
      "source": [
        "input_tests.shape"
      ],
      "execution_count": 27,
      "outputs": [
        {
          "output_type": "execute_result",
          "data": {
            "text/plain": [
              "(61,)"
            ]
          },
          "metadata": {
            "tags": []
          },
          "execution_count": 27
        }
      ]
    },
    {
      "cell_type": "code",
      "metadata": {
        "id": "tEPjsiB3C3RO",
        "colab_type": "code",
        "colab": {}
      },
      "source": [
        "input_tests = input_tests.reshape(-1,1)\n",
        "input_tests = scaler.transform(input_tests)"
      ],
      "execution_count": 0,
      "outputs": []
    },
    {
      "cell_type": "code",
      "metadata": {
        "id": "naj-VLU7C5nT",
        "colab_type": "code",
        "colab": {}
      },
      "source": [
        "X_test = []\n",
        "for i in range(1, len(input_tests)):\n",
        "    X_test.append(input_tests[i-1:i,0])"
      ],
      "execution_count": 0,
      "outputs": []
    },
    {
      "cell_type": "code",
      "metadata": {
        "id": "yJnh70nZC8HG",
        "colab_type": "code",
        "colab": {}
      },
      "source": [
        "X_test = np.array(X_test)\n",
        "X_test = np.reshape(X_test, (X_test.shape[0], X_test.shape[1], 1))"
      ],
      "execution_count": 0,
      "outputs": []
    },
    {
      "cell_type": "code",
      "metadata": {
        "id": "xZR2esz_C-3A",
        "colab_type": "code",
        "colab": {}
      },
      "source": [
        "predictions = model.predict(X_test)\n",
        "predictions = scaler.inverse_transform(predictions)"
      ],
      "execution_count": 0,
      "outputs": []
    },
    {
      "cell_type": "code",
      "metadata": {
        "id": "imNpT6EQDA7Q",
        "colab_type": "code",
        "colab": {
          "base_uri": "https://localhost:8080/",
          "height": 605
        },
        "outputId": "fe631a40-1932-4d74-dc2e-34e475eb1242"
      },
      "source": [
        "plt.figure(figsize = (18,9))\n",
        "plt.plot(y_test, color='blue', label='Actual Apple Stock Price')\n",
        "plt.plot(predictions , color='red', label='Predicted Apple Stock Price')\n",
        "plt.xticks(range(0,test.shape[0],6),test['Date'].loc[::6],rotation=45)\n",
        "plt.title('Apple Stock Price Prediction')\n",
        "plt.xlabel('Date')\n",
        "plt.ylabel('Apple Stock Price')\n",
        "plt.legend()\n",
        "plt.show()"
      ],
      "execution_count": 33,
      "outputs": [
        {
          "output_type": "display_data",
          "data": {
            "image/png": "[encoded data removed]",
            "text/plain": [
              "<Figure size 1296x648 with 1 Axes>"
            ]
          },
          "metadata": {
            "tags": []
          }
        }
      ]
    },
    {
      "cell_type": "code",
      "metadata": {
        "id": "bL3No_JNDKGW",
        "colab_type": "code",
        "colab": {
          "base_uri": "https://localhost:8080/",
          "height": 34
        },
        "outputId": "7b821da8-a042-4bfc-ac6d-d9cefb7588b3"
      },
      "source": [
        "from sklearn.metrics import mean_squared_error\n",
        "mean_squared_error(y_test,predictions)"
      ],
      "execution_count": 34,
      "outputs": [
        {
          "output_type": "execute_result",
          "data": {
            "text/plain": [
              "9.561142099677122"
            ]
          },
          "metadata": {
            "tags": []
          },
          "execution_count": 34
        }
      ]
    }
  ]
}